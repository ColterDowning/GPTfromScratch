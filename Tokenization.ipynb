{
 "cells": [
  {
   "cell_type": "markdown",
   "metadata": {},
   "source": [
    "OOOOOOOH boy we made a GPT and had our fun, but now we need to dive into the world of tokenization, head first. Welcome to hell =)\n",
    "Tokenization is at the heart of much weirdness of LLMs. Do not brush it off.\n",
    "\n",
    "- Why can't LLM spell words? Tokenization.\n",
    "- Why can't LLM do super simple string processing tasks like reversing a string? Tokenization.\n",
    "- Why is LLM worse at non-English languages (e.g. Japanese)? Tokenization.\n",
    "- Why is LLM bad at simple arithmetic? Tokenization.\n",
    "- Why did GPT-2 have more than necessary trouble coding in Python? Tokenization.\n",
    "- Why did my LLM abruptly halt when it sees the string \"<|endoftext|>\"? Tokenization.\n",
    "- What is this weird warning I get about a \"trailing whitespace\"? Tokenization.\n",
    "- Why the LLM break if I ask it about \"SolidGoldMagikarp\"? Tokenization.\n",
    "- Why should I prefer to use YAML over JSON with LLMs? Tokenization.\n",
    "- Why is LLM not actually end-to-end language modeling? Tokenization.\n",
    "- What is the real root of suffering? Tokenization."
   ]
  },
  {
   "cell_type": "code",
   "execution_count": null,
   "metadata": {
    "vscode": {
     "languageId": "plaintext"
    }
   },
   "outputs": [],
   "source": []
  }
 ],
 "metadata": {
  "language_info": {
   "name": "python"
  }
 },
 "nbformat": 4,
 "nbformat_minor": 2
}
