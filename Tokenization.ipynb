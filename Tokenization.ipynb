{
 "cells": [
  {
   "cell_type": "markdown",
   "metadata": {},
   "source": [
    "OOOOOOOH boy we made a GPT and had our fun, but now we need to dive into the world of tokenization, head first. Welcome to hell =)\n",
    "Tokenization is at the heart of much weirdness of LLMs. Do not brush it off.\n",
    "\n",
    "- Why can't LLM spell words? Tokenization.\n",
    "- Why can't LLM do super simple string processing tasks like reversing a string? Tokenization.\n",
    "- Why is LLM worse at non-English languages (e.g. Japanese)? Tokenization.\n",
    "- Why is LLM bad at simple arithmetic? Tokenization.\n",
    "- Why did GPT-2 have more than necessary trouble coding in Python? Tokenization.\n",
    "- Why did my LLM abruptly halt when it sees the string \"<|endoftext|>\"? Tokenization.\n",
    "- What is this weird warning I get about a \"trailing whitespace\"? Tokenization.\n",
    "- Why the LLM break if I ask it about \"SolidGoldMagikarp\"? Tokenization.\n",
    "- Why should I prefer to use YAML over JSON with LLMs? Tokenization.\n",
    "- Why is LLM not actually end-to-end language modeling? Tokenization.\n",
    "- What is the real root of suffering? Tokenization."
   ]
  },
  {
   "cell_type": "markdown",
   "metadata": {},
   "source": [
    "Example string:"
   ]
  },
  {
   "cell_type": "code",
   "execution_count": null,
   "metadata": {},
   "outputs": [],
   "source": [
    "Tokenization is at the heart of much weirdness of LLMs. Do not brush it off.\n",
    "\n",
    "127 + 677 = 804\n",
    "1275 + 6773 = 8041\n",
    "\n",
    "Egg.\n",
    "I have an Egg.\n",
    "egg.\n",
    "EGG.\n",
    "\n",
    "만나서 반가워요. 저는 OpenAI에서 개발한 대규모 언어 모델인 ChatGPT입니다. 궁금한 것이 있으시면 무엇이든 물어보세요.\n",
    "\n",
    "for i in range(1, 101):\n",
    "    if i % 3 == 0 and i % 5 == 0:\n",
    "        print(\"FizzBuzz\")\n",
    "    elif i % 3 == 0:\n",
    "        print(\"Fizz\")\n",
    "    elif i % 5 == 0:\n",
    "        print(\"Buzz\")\n",
    "    else:\n",
    "        print(i)"
   ]
  },
  {
   "cell_type": "code",
   "execution_count": 1,
   "metadata": {},
   "outputs": [
    {
     "data": {
      "text/plain": [
       "'안녕하세요 👋 (hello in Korean!)'"
      ]
     },
     "execution_count": 1,
     "metadata": {},
     "output_type": "execute_result"
    }
   ],
   "source": [
    "\"안녕하세요 👋 (hello in Korean!)\"\n",
    "\n",
    "# How do we feed this text into Python? A string is defined as immutable sequences of Unicode code points.\n",
    "# Immutable means a state that cannot be modified after it's created. Making a string means there is no going back.\n",
    "# Any operation in Python that modifies the string actually just makes a new one.\n",
    "# Unicode codepoints are defined by the Unicode consortium according to the Unicode standard, which is ~150k characters,\n",
    "# what the characters look like, and what integers represent those characters.\n",
    "# We can get the integer representation of a character in Python by using ord()"
   ]
  },
  {
   "cell_type": "code",
   "execution_count": 2,
   "metadata": {},
   "outputs": [
    {
     "data": {
      "text/plain": [
       "[50504,\n",
       " 45397,\n",
       " 54616,\n",
       " 49464,\n",
       " 50836,\n",
       " 32,\n",
       " 128075,\n",
       " 32,\n",
       " 40,\n",
       " 104,\n",
       " 101,\n",
       " 108,\n",
       " 108,\n",
       " 111,\n",
       " 32,\n",
       " 105,\n",
       " 110,\n",
       " 32,\n",
       " 75,\n",
       " 111,\n",
       " 114,\n",
       " 101,\n",
       " 97,\n",
       " 110,\n",
       " 33,\n",
       " 41]"
      ]
     },
     "execution_count": 2,
     "metadata": {},
     "output_type": "execute_result"
    }
   ],
   "source": [
    "[ord(x) for x in \"안녕하세요 👋 (hello in Korean!)\"]"
   ]
  },
  {
   "cell_type": "code",
   "execution_count": 3,
   "metadata": {},
   "outputs": [
    {
     "data": {
      "text/plain": [
       "[236,\n",
       " 149,\n",
       " 136,\n",
       " 235,\n",
       " 133,\n",
       " 149,\n",
       " 237,\n",
       " 149,\n",
       " 152,\n",
       " 236,\n",
       " 132,\n",
       " 184,\n",
       " 236,\n",
       " 154,\n",
       " 148,\n",
       " 32,\n",
       " 240,\n",
       " 159,\n",
       " 145,\n",
       " 139,\n",
       " 32,\n",
       " 40,\n",
       " 104,\n",
       " 101,\n",
       " 108,\n",
       " 108,\n",
       " 111,\n",
       " 32,\n",
       " 105,\n",
       " 110,\n",
       " 32,\n",
       " 75,\n",
       " 111,\n",
       " 114,\n",
       " 101,\n",
       " 97,\n",
       " 110,\n",
       " 33,\n",
       " 41]"
      ]
     },
     "execution_count": 3,
     "metadata": {},
     "output_type": "execute_result"
    }
   ],
   "source": [
    "# Cool, so each charater has an integer defined to it. Why don't we just use those integers as our tokens\n",
    "# and not even build a tokenizer? \n",
    "# 1. Our vocabulary would be super long (~150k)\n",
    "# 2. The Unicode standard is changing over time\n",
    "\n",
    "# To solve this, we will turn to encodings. The Unicode consortium defines 3 different encodings: UTF-8,\n",
    "# UTF-16, and UTF-32. These take unicode text and translate into binary data, or byte streams. We will\n",
    "# use the UTF-8 encoding (its backwards compatable to ASCI encoding and the 16/32 encodings are more wasteful).\n",
    "\n",
    "list(\"안녕하세요 👋 (hello in Korean!)\".encode(\"utf-8\")) # gives the raw bytes of the string according to utf-8"
   ]
  },
  {
   "cell_type": "code",
   "execution_count": null,
   "metadata": {},
   "outputs": [],
   "source": [
    "# It would be great to directly feed these byte streams into the transformer, but the transformer architecture\n",
    "# doesn't allow for it. There is some work being done for a tokenization free transformer, but it is in\n",
    "# the early stages.\n",
    "# Instead, we are going to use the byte pair encoding algorithm =) It generally works as follows:\n",
    "# Suppose you have the following bytes to be encoded (11 bytes with a vocab of 4)\n",
    "# aaabdaaabac\n",
    "# Identify the byte pairs that happen the most often and replace with a byte that is not used in the data (Z)\n",
    "# Now our bytes turn into\n",
    "# ZabdZabac (9 bytes with a vocab of 5)\n",
    "# We can repeat this process, replacing 'ab' with Y\n",
    "# ZYdZYac (7 bytes with vocab of 6)\n",
    "# We can now replace \"XY\" with \"X\" to get\n",
    "# XdXac (5 bytes with vocab of 7)\n",
    "# This is the furthest this data can be compressed, since there are no more pairs that occur more than once."
   ]
  }
 ],
 "metadata": {
  "kernelspec": {
   "display_name": "base",
   "language": "python",
   "name": "python3"
  },
  "language_info": {
   "codemirror_mode": {
    "name": "ipython",
    "version": 3
   },
   "file_extension": ".py",
   "mimetype": "text/x-python",
   "name": "python",
   "nbconvert_exporter": "python",
   "pygments_lexer": "ipython3",
   "version": "3.12.4"
  }
 },
 "nbformat": 4,
 "nbformat_minor": 2
}
